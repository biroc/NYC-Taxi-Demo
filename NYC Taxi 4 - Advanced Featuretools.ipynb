{
 "cells": [
  {
   "cell_type": "markdown",
   "metadata": {},
   "source": [
    "<center><a href=\"https://www.featuretools.com/\"><img src=\"img/featuretools-logo.png\" width=\"400\" height=\"200\" /></a></center>"
   ]
  },
  {
   "cell_type": "markdown",
   "metadata": {},
   "source": [
    "<h2> An Advanced Featuretools Approach </h2>\n",
    "<p>The following tutorial illustrates a advanced featuretools model for the NYC Taxi Trip Duration competition on Kaggle. This notebook reads the dataset, adds additional datasets, creates new columns, and uses deep feature synthesis to generate features, and trains a regressor.</p>\n",
    "\n",
    "<h2>Step 1: Download raw data </h2>\n",
    "<p>The first step is to download the raw data from the <a href=\"https://www.kaggle.com/c/nyc-taxi-trip-duration/data\">Kaggle website</a>.</p>\n",
    "<li>train.csv</li>\n",
    "<li>test.csv</li>\n",
    "\n",
    "<p>The second dataset is found here, <a href=\"https://www.kaggle.com/oscarleo/new-york-city-taxi-with-osrm\">Kaggle Notebook Output</a>.</p>\n",
    "<li>fastest_routes_train_part_1.csv</li>\n",
    "<li>fastest_routes_train_part_2.csv</li>\n",
    "<li>fastest_routes_test.csv</li>"
   ]
  },
  {
   "cell_type": "code",
   "execution_count": null,
   "metadata": {
    "collapsed": false
   },
   "outputs": [],
   "source": [
    "import featuretools as ft\n",
    "import pandas as pd\n",
    "import numpy as np\n",
    "import utils\n",
    "ft.__version__"
   ]
  },
  {
   "cell_type": "markdown",
   "metadata": {},
   "source": [
    "<h2>Step 2: Prepare the Data </h2>"
   ]
  },
  {
   "cell_type": "code",
   "execution_count": 3,
   "metadata": {
    "collapsed": false
   },
   "outputs": [
    {
     "data": {
      "text/html": [
       "<div>\n",
       "<style>\n",
       "    .dataframe thead tr:only-child th {\n",
       "        text-align: right;\n",
       "    }\n",
       "\n",
       "    .dataframe thead th {\n",
       "        text-align: left;\n",
       "    }\n",
       "\n",
       "    .dataframe tbody tr th {\n",
       "        vertical-align: top;\n",
       "    }\n",
       "</style>\n",
       "<table border=\"1\" class=\"dataframe\">\n",
       "  <thead>\n",
       "    <tr style=\"text-align: right;\">\n",
       "      <th></th>\n",
       "      <th>id</th>\n",
       "      <th>vendor_id</th>\n",
       "      <th>pickup_datetime</th>\n",
       "      <th>passenger_count</th>\n",
       "      <th>pickup_longitude</th>\n",
       "      <th>pickup_latitude</th>\n",
       "      <th>dropoff_longitude</th>\n",
       "      <th>dropoff_latitude</th>\n",
       "      <th>store_and_fwd_flag</th>\n",
       "      <th>trip_duration</th>\n",
       "    </tr>\n",
       "  </thead>\n",
       "  <tbody>\n",
       "    <tr>\n",
       "      <th>0</th>\n",
       "      <td>id2875421</td>\n",
       "      <td>2</td>\n",
       "      <td>2016-03-14 17:24:55</td>\n",
       "      <td>1</td>\n",
       "      <td>-73.982155</td>\n",
       "      <td>40.767937</td>\n",
       "      <td>-73.964630</td>\n",
       "      <td>40.765602</td>\n",
       "      <td>False</td>\n",
       "      <td>455</td>\n",
       "    </tr>\n",
       "    <tr>\n",
       "      <th>1</th>\n",
       "      <td>id2377394</td>\n",
       "      <td>1</td>\n",
       "      <td>2016-06-12 00:43:35</td>\n",
       "      <td>1</td>\n",
       "      <td>-73.980415</td>\n",
       "      <td>40.738564</td>\n",
       "      <td>-73.999481</td>\n",
       "      <td>40.731152</td>\n",
       "      <td>False</td>\n",
       "      <td>663</td>\n",
       "    </tr>\n",
       "    <tr>\n",
       "      <th>2</th>\n",
       "      <td>id3858529</td>\n",
       "      <td>2</td>\n",
       "      <td>2016-01-19 11:35:24</td>\n",
       "      <td>1</td>\n",
       "      <td>-73.979027</td>\n",
       "      <td>40.763939</td>\n",
       "      <td>-74.005333</td>\n",
       "      <td>40.710087</td>\n",
       "      <td>False</td>\n",
       "      <td>2124</td>\n",
       "    </tr>\n",
       "    <tr>\n",
       "      <th>3</th>\n",
       "      <td>id3504673</td>\n",
       "      <td>2</td>\n",
       "      <td>2016-04-06 19:32:31</td>\n",
       "      <td>1</td>\n",
       "      <td>-74.010040</td>\n",
       "      <td>40.719971</td>\n",
       "      <td>-74.012268</td>\n",
       "      <td>40.706718</td>\n",
       "      <td>False</td>\n",
       "      <td>429</td>\n",
       "    </tr>\n",
       "    <tr>\n",
       "      <th>4</th>\n",
       "      <td>id2181028</td>\n",
       "      <td>2</td>\n",
       "      <td>2016-03-26 13:30:55</td>\n",
       "      <td>1</td>\n",
       "      <td>-73.973053</td>\n",
       "      <td>40.793209</td>\n",
       "      <td>-73.972923</td>\n",
       "      <td>40.782520</td>\n",
       "      <td>False</td>\n",
       "      <td>435</td>\n",
       "    </tr>\n",
       "  </tbody>\n",
       "</table>\n",
       "</div>"
      ],
      "text/plain": [
       "          id  vendor_id     pickup_datetime  passenger_count  \\\n",
       "0  id2875421          2 2016-03-14 17:24:55                1   \n",
       "1  id2377394          1 2016-06-12 00:43:35                1   \n",
       "2  id3858529          2 2016-01-19 11:35:24                1   \n",
       "3  id3504673          2 2016-04-06 19:32:31                1   \n",
       "4  id2181028          2 2016-03-26 13:30:55                1   \n",
       "\n",
       "   pickup_longitude  pickup_latitude  dropoff_longitude  dropoff_latitude  \\\n",
       "0        -73.982155        40.767937         -73.964630         40.765602   \n",
       "1        -73.980415        40.738564         -73.999481         40.731152   \n",
       "2        -73.979027        40.763939         -74.005333         40.710087   \n",
       "3        -74.010040        40.719971         -74.012268         40.706718   \n",
       "4        -73.973053        40.793209         -73.972923         40.782520   \n",
       "\n",
       "   store_and_fwd_flag  trip_duration  \n",
       "0               False            455  \n",
       "1               False            663  \n",
       "2               False           2124  \n",
       "3               False            429  \n",
       "4               False            435  "
      ]
     },
     "execution_count": 3,
     "metadata": {},
     "output_type": "execute_result"
    }
   ],
   "source": [
    "TRAIN_DIR = \"data/train.csv\"\n",
    "TEST_DIR = \"data/test.csv\"\n",
    "\n",
    "# We can specify the number of rows to speed up this notebook\n",
    "data_train, data_test = utils.read_data(TRAIN_DIR, TEST_DIR, nrows=None)\n",
    "\n",
    "data_train.head(5)"
   ]
  },
  {
   "cell_type": "markdown",
   "metadata": {},
   "source": [
    "<p>We can also add a dataset which contains the shortest path between two coordinates, depending on the trip id.</p>"
   ]
  },
  {
   "cell_type": "code",
   "execution_count": 4,
   "metadata": {
    "collapsed": true
   },
   "outputs": [],
   "source": [
    "# https://www.kaggle.com/oscarleo/new-york-city-taxi-with-osrm\n",
    "fastest_routes_part1 = pd.read_csv('data/fastest_routes_train_part_1.csv', \n",
    "                                   usecols=['id', 'number_of_steps'])\n",
    "fastest_routes_part2 = pd.read_csv('data/fastest_routes_train_part_2.csv', \n",
    "                                   usecols=['id', 'number_of_steps'])\n",
    "fastest_routes_train = pd.concat((fastest_routes_part1, fastest_routes_part2))\n",
    "\n",
    "fatest_routes_test = pd.read_csv('data/fastest_routes_test.csv',\n",
    "                                 usecols=['id', 'number_of_steps'])\n",
    "\n",
    "data_train = data_train.merge(fastest_routes_train, how='left', on='id')\n",
    "data_test = data_test.merge(fatest_routes_test, how='left', on='id')"
   ]
  },
  {
   "cell_type": "markdown",
   "metadata": {},
   "source": [
    "<p>Lets create another column to define test and train datasets.</p>"
   ]
  },
  {
   "cell_type": "code",
   "execution_count": 5,
   "metadata": {
    "collapsed": true
   },
   "outputs": [],
   "source": [
    "data_train['test_data'] = False\n",
    "data_test['test_data'] = True"
   ]
  },
  {
   "cell_type": "markdown",
   "metadata": {},
   "source": [
    "<p>We can now combine the data.</p>"
   ]
  },
  {
   "cell_type": "code",
   "execution_count": 6,
   "metadata": {
    "collapsed": true
   },
   "outputs": [],
   "source": [
    "data = pd.concat([data_train, data_test])"
   ]
  },
  {
   "cell_type": "markdown",
   "metadata": {},
   "source": [
    "<h2>Step 3: Latitude and Longitude Information Extraction </h2>\n",
    "<p>In this step we will use the latitude and longitude to create some additional data points.</p>\n",
    "\n",
    "<p>First, we can determine a pickup and dropoff cluster depending on latitude and longitude.</p>"
   ]
  },
  {
   "cell_type": "code",
   "execution_count": 7,
   "metadata": {
    "collapsed": true
   },
   "outputs": [],
   "source": [
    "from sklearn.cluster import MiniBatchKMeans\n",
    "coords = np.vstack((data_train[['pickup_latitude', 'pickup_longitude']].values,\n",
    "                    data_train[['dropoff_latitude', 'dropoff_longitude']].values,\n",
    "                    data_test[['pickup_latitude', 'pickup_longitude']].values,\n",
    "                    data_test[['dropoff_latitude', 'dropoff_longitude']].values))\n",
    "\n",
    "kmeans = MiniBatchKMeans(n_clusters=100, batch_size=10000).fit(coords)\n",
    "\n",
    "data['pickup_cluster'] = kmeans.predict(data[['pickup_latitude', 'pickup_longitude']])\n",
    "data['dropoff_cluster'] = kmeans.predict(data[['dropoff_latitude', 'dropoff_longitude']])"
   ]
  },
  {
   "cell_type": "markdown",
   "metadata": {},
   "source": [
    "<p>Distance can also be determined by the longitude and latitude. We can determine simple straight distance by using the haversine formula. Another distance that can be determined by these points is the city block distance, also known as manhattan distance. </p>"
   ]
  },
  {
   "cell_type": "code",
   "execution_count": 9,
   "metadata": {
    "collapsed": true
   },
   "outputs": [],
   "source": [
    "# https://en.wikipedia.org/wiki/Haversine_formula\n",
    "\n",
    "def haversine_distance(lat1, lon1, lat2, lon2):\n",
    "    lon1, lat1, lon2, lat2 = map(np.radians, [lon1, lat1, lon2, lat2])\n",
    "    dlon = lon2 - lon1\n",
    "    dlat = lat2 - lat1\n",
    "    a = np.sin(dlat/2.0)**2 + np.cos(lat1) * np.cos(lat2) * np.sin(dlon/2.0)**2\n",
    "    km = 6367 * 2 * np.arcsin(np.sqrt(a))\n",
    "    return km\n",
    "\n",
    "data['distance_euclidean'] = haversine_distance(data['pickup_latitude'], data['pickup_longitude'], \n",
    "                                                data['dropoff_latitude'], data['dropoff_longitude'])\n",
    "\n",
    "#https://en.wikipedia.org/wiki/Taxicab_geometry\n",
    "\n",
    "def cityblock_distance(lat1, lon1, lat2, lon2):\n",
    "    lon_dis = haversine_distance(lat1, lon1, lat1, lon2)\n",
    "    lat_dist = haversine_distance(lat1, lon1, lat2, lon1)\n",
    "    return lon_dis + lat_dist\n",
    "\n",
    "data['distance_cityblock'] = cityblock_distance(data['pickup_latitude'], data['pickup_longitude'], \n",
    "                                                data['dropoff_latitude'], data['dropoff_longitude'])"
   ]
  },
  {
   "cell_type": "markdown",
   "metadata": {},
   "source": [
    "<p>The bearing distance can also be determined.</p>"
   ]
  },
  {
   "cell_type": "code",
   "execution_count": 10,
   "metadata": {
    "collapsed": true
   },
   "outputs": [],
   "source": [
    "# http://www.movable-type.co.uk/scripts/latlong.html\n",
    "def bearing_distance(lat1, lon1, lat2, lon2):\n",
    "    delta_lon = np.radians(lon2 - lon1)\n",
    "    lon1, lat1, lon2, lat2 = map(np.radians, [lon1, lat1, lon2, lat2])\n",
    "    x = np.cos(lat2) * np.sin(delta_lon)\n",
    "    y = np.cos(lat1) * np.sin(lat2) - np.sin(lat1) * np.cos(lat2) * np.cos(delta_lon)\n",
    "    return np.degrees(np.arctan2(x, y))\n",
    "data['bearing_distance'] = bearing_distance(data['pickup_latitude'], data['pickup_longitude'], \n",
    "                                            data['dropoff_latitude'], data['dropoff_longitude'])"
   ]
  },
  {
   "cell_type": "markdown",
   "metadata": {},
   "source": [
    "<p>Finally, we can determine the center point between the pickup and dropoff coordinates.</p>"
   ]
  },
  {
   "cell_type": "code",
   "execution_count": 11,
   "metadata": {
    "collapsed": true
   },
   "outputs": [],
   "source": [
    "data['center_latitude'] = (data['pickup_latitude'] + data['dropoff_latitude']) / 2\n",
    "data['center_longtitude'] = (data['pickup_longitude'] + data['dropoff_longitude']) / 2"
   ]
  },
  {
   "cell_type": "markdown",
   "metadata": {},
   "source": [
    "<h2>Step 4: Create new features using DFS </h2>\n",
    "<p>Lets use feature tools to see what features DFS comes up with.</p>"
   ]
  },
  {
   "cell_type": "code",
   "execution_count": 12,
   "metadata": {
    "collapsed": true
   },
   "outputs": [],
   "source": [
    "from featuretools import variable_types as vtypes\n",
    "\n",
    "trip_variable_types = {\n",
    "    'number_of_steps': vtypes.Ordinal,\n",
    "    'passenger_count': vtypes.Ordinal, \n",
    "    'vendor_id': vtypes.Categorical,\n",
    "    'pickup_cluster': vtypes.Categorical,\n",
    "    'dropoff_cluster': vtypes.Categorical,\n",
    "}"
   ]
  },
  {
   "cell_type": "markdown",
   "metadata": {},
   "source": [
    "<p>We can also normalize many more entities than before.</p>"
   ]
  },
  {
   "cell_type": "code",
   "execution_count": 13,
   "metadata": {
    "collapsed": false
   },
   "outputs": [
    {
     "data": {
      "text/plain": [
       "Entityset: taxi\n",
       "  Entities:\n",
       "    dropoff_loc (shape = [100, 2])\n",
       "    pickup_loc (shape = [100, 2])\n",
       "    passenger_cnt (shape = [8, 2])\n",
       "    vendors (shape = [2, 2])\n",
       "    steps (shape = [43, 2])\n",
       "    ...And 1 more\n",
       "  Relationships:\n",
       "    trips.vendor_id -> vendors.vendor_id\n",
       "    trips.passenger_count -> passenger_cnt.passenger_count\n",
       "    trips.number_of_steps -> steps.number_of_steps\n",
       "    trips.pickup_cluster -> pickup_loc.pickup_cluster\n",
       "    trips.dropoff_cluster -> dropoff_loc.dropoff_cluster"
      ]
     },
     "execution_count": 13,
     "metadata": {},
     "output_type": "execute_result"
    }
   ],
   "source": [
    "es = ft.EntitySet(\"taxi\")\n",
    "\n",
    "es.entity_from_dataframe(entity_id=\"trips\",\n",
    "                         dataframe=data,\n",
    "                         index=\"id\",\n",
    "                         time_index='pickup_datetime',\n",
    "                         variable_types=trip_variable_types)\n",
    "\n",
    "es.normalize_entity(base_entity_id=\"trips\",\n",
    "                    new_entity_id=\"vendors\",\n",
    "                    index=\"vendor_id\")\n",
    "\n",
    "es.normalize_entity(base_entity_id=\"trips\",\n",
    "                    new_entity_id=\"passenger_cnt\",\n",
    "                    index=\"passenger_count\")\n",
    "\n",
    "es.normalize_entity(base_entity_id=\"trips\",\n",
    "                    new_entity_id=\"steps\",\n",
    "                    index=\"number_of_steps\")\n",
    "\n",
    "es.normalize_entity(base_entity_id=\"trips\",\n",
    "                    new_entity_id=\"pickup_loc\",\n",
    "                    index=\"pickup_cluster\")\n",
    "\n",
    "es.normalize_entity(base_entity_id=\"trips\",\n",
    "                    new_entity_id=\"dropoff_loc\",\n",
    "                    index=\"dropoff_cluster\")\n"
   ]
  },
  {
   "cell_type": "markdown",
   "metadata": {},
   "source": [
    "<p>We can specify the time for each instance of the target_entity to calculate features. The timestamp represents the last time data can be used for calculating features by DFS. This is specified using a dataframe of cutoff times. Below we can see that the cutoff time for each trip is the pickup time.</p>"
   ]
  },
  {
   "cell_type": "code",
   "execution_count": 14,
   "metadata": {
    "collapsed": true
   },
   "outputs": [],
   "source": [
    "cutoff_time = (es['trips'].df[['id', 'pickup_datetime']])"
   ]
  },
  {
   "cell_type": "markdown",
   "metadata": {},
   "source": [
    "<p>Given this dataset, we would have about 2 million unique cutoff times. This is a good use case to use the approximate features parameter of DFS. In a large dataset, direct features that are aggregations on the prediction entity may not change much from cutoff time to cutoff time. Calculating the aggregation features at specific times every hour and using it for all cutoff times within the hour would save time and perhaps not lose much information. The approximate parameter in DFS lets you specify a window size to use when approximating these direct aggregation features.</p>\n",
    "\n",
    "<b>Note, we can use an already calculated feature_matrix by doing the following:</b>\n",
    "<p>You must copy and run the code.</p>\n",
    "```python\n",
    "feature_matrix = pd.read_csv('https://s3.amazonaws.com/featuretools-static/nyc_taxi/fm_advanced.csv', \n",
    "                             index_col='id')\n",
    "features = feature_matrix.columns.values\n",
    "```"
   ]
  },
  {
   "cell_type": "code",
   "execution_count": 15,
   "metadata": {
    "collapsed": false
   },
   "outputs": [
    {
     "name": "stdout",
     "output_type": "stream",
     "text": [
      "Building features: 911it [00:00, 5780.16it/s]\n",
      "Progress: 100%|██████████| 6/6 [13:42<00:00, 150.16s/cutoff time]\n"
     ]
    }
   ],
   "source": [
    "from featuretools.primitives import (Sum, Mean, Median, Std, Count, Min, Max, NUnique, Skew,\n",
    "                                     Day, Hour, Minute, Month, Weekday, Week, Weekend)\n",
    "\n",
    "# this allows us to create features that are conditioned on a second value before we calculate.\n",
    "es.add_interesting_values()\n",
    "\n",
    "agg_primitives = [Sum, Mean, Median, Std, Count, Min, Max, NUnique, Skew]\n",
    "trans_primitives = [Day, Hour, Minute, Month, Weekday, Week, Weekend]\n",
    "\n",
    "# calculate feature_matrix using deep feature synthesis\n",
    "feature_matrix, features = ft.dfs(entityset=es,\n",
    "                                  target_entity=\"trips\",\n",
    "                                  trans_primitives=trans_primitives,\n",
    "                                  agg_primitives=agg_primitives,\n",
    "                                  drop_contains=['trips.test_data'],\n",
    "                                  verbose=True,\n",
    "                                  cutoff_time=cutoff_time,\n",
    "                                  approximate='36d',\n",
    "                                  max_depth=3)"
   ]
  },
  {
   "cell_type": "markdown",
   "metadata": {},
   "source": [
    "<p>Lets look at the many features created by simply using DFS. </p>"
   ]
  },
  {
   "cell_type": "code",
   "execution_count": 16,
   "metadata": {
    "collapsed": false
   },
   "outputs": [
    {
     "data": {
      "text/plain": [
       "[<Feature: dropoff_longitude>,\n",
       " <Feature: trip_duration>,\n",
       " <Feature: pickup_latitude>,\n",
       " <Feature: pickup_longitude>,\n",
       " <Feature: distance_cityblock>,\n",
       " <Feature: pickup_cluster>,\n",
       " <Feature: bearing_distance>,\n",
       " <Feature: number_of_steps>,\n",
       " <Feature: center_latitude>,\n",
       " <Feature: passenger_count>,\n",
       " <Feature: distance_euclidean>,\n",
       " <Feature: dropoff_latitude>,\n",
       " <Feature: store_and_fwd_flag>,\n",
       " <Feature: center_longtitude>,\n",
       " <Feature: test_data>,\n",
       " <Feature: vendor_id>,\n",
       " <Feature: dropoff_cluster>,\n",
       " <Feature: MONTH(pickup_datetime)>,\n",
       " <Feature: WEEK(pickup_datetime)>,\n",
       " <Feature: MINUTE(pickup_datetime)>,\n",
       " <Feature: HOUR(pickup_datetime)>,\n",
       " <Feature: DAY(pickup_datetime)>,\n",
       " <Feature: IS_WEEKEND(pickup_datetime)>,\n",
       " <Feature: WEEKDAY(pickup_datetime)>,\n",
       " <Feature: dropoff_loc.MIN(trips.bearing_distance)>,\n",
       " <Feature: passenger_cnt.MAX(trips.center_latitude)>,\n",
       " <Feature: dropoff_loc.STD(trips.distance_cityblock)>,\n",
       " <Feature: vendors.SUM(trips.dropoff_longitude)>,\n",
       " <Feature: passenger_cnt.MEAN(trips.center_longtitude)>,\n",
       " <Feature: vendors.MIN(trips.center_longtitude)>]"
      ]
     },
     "execution_count": 16,
     "metadata": {},
     "output_type": "execute_result"
    }
   ],
   "source": [
    "features[:30]"
   ]
  },
  {
   "cell_type": "code",
   "execution_count": 17,
   "metadata": {
    "collapsed": false
   },
   "outputs": [
    {
     "name": "stdout",
     "output_type": "stream",
     "text": [
      "459\n"
     ]
    }
   ],
   "source": [
    "print len(features)"
   ]
  },
  {
   "cell_type": "markdown",
   "metadata": {},
   "source": [
    "<h2>Step 5: Build the Model </h2>"
   ]
  },
  {
   "cell_type": "markdown",
   "metadata": {},
   "source": [
    "<p>As before, we need to retrieve our labels for the train dataset, so we should merge our current feature matrix with the original dataset. </p>\n",
    "\n",
    "<p>We also get the log of the trip duration so that a more linear relationship can be found.</p>"
   ]
  },
  {
   "cell_type": "code",
   "execution_count": 18,
   "metadata": {
    "collapsed": true
   },
   "outputs": [],
   "source": [
    "# separates the whole feature matrix into train data feature matrix, train data labels, and test data feature matrix \n",
    "X_train, labels, X_test = utils.get_train_test_fm(feature_matrix)\n",
    "labels = np.log(labels.values + 1)"
   ]
  },
  {
   "cell_type": "code",
   "execution_count": 19,
   "metadata": {
    "collapsed": false
   },
   "outputs": [
    {
     "name": "stdout",
     "output_type": "stream",
     "text": [
      "[0]\ttrain-rmse:4.99587\tvalid-rmse:4.99586\n",
      "Multiple eval metrics have been passed: 'valid-rmse' will be used for early stopping.\n",
      "\n",
      "Will train until valid-rmse hasn't improved in 60 rounds.\n",
      "[10]\ttrain-rmse:0.906881\tvalid-rmse:0.908897\n",
      "[20]\ttrain-rmse:0.382196\tvalid-rmse:0.388451\n",
      "[30]\ttrain-rmse:0.340506\tvalid-rmse:0.349907\n",
      "[40]\ttrain-rmse:0.33136\tvalid-rmse:0.343459\n",
      "[50]\ttrain-rmse:0.323989\tvalid-rmse:0.338486\n",
      "[60]\ttrain-rmse:0.31904\tvalid-rmse:0.33593\n",
      "[70]\ttrain-rmse:0.315621\tvalid-rmse:0.334252\n",
      "[80]\ttrain-rmse:0.312133\tvalid-rmse:0.332654\n",
      "[90]\ttrain-rmse:0.309233\tvalid-rmse:0.331902\n",
      "[100]\ttrain-rmse:0.307548\tvalid-rmse:0.331158\n",
      "[110]\ttrain-rmse:0.305488\tvalid-rmse:0.330103\n",
      "[120]\ttrain-rmse:0.303794\tvalid-rmse:0.329419\n",
      "[130]\ttrain-rmse:0.302013\tvalid-rmse:0.328778\n",
      "[140]\ttrain-rmse:0.300956\tvalid-rmse:0.328439\n",
      "[150]\ttrain-rmse:0.299635\tvalid-rmse:0.328131\n",
      "[160]\ttrain-rmse:0.298779\tvalid-rmse:0.327923\n",
      "[170]\ttrain-rmse:0.297169\tvalid-rmse:0.327512\n",
      "[180]\ttrain-rmse:0.295742\tvalid-rmse:0.327357\n",
      "[190]\ttrain-rmse:0.294707\tvalid-rmse:0.327092\n",
      "[200]\ttrain-rmse:0.293581\tvalid-rmse:0.326678\n",
      "[210]\ttrain-rmse:0.292934\tvalid-rmse:0.326643\n",
      "[220]\ttrain-rmse:0.291842\tvalid-rmse:0.326556\n",
      "Modeling RMSLE 0.32641\n"
     ]
    }
   ],
   "source": [
    "model = utils.train_xgb(X_train, labels)"
   ]
  },
  {
   "cell_type": "markdown",
   "metadata": {},
   "source": [
    "<h2>Step 6: Make a Submission </h2>"
   ]
  },
  {
   "cell_type": "code",
   "execution_count": 20,
   "metadata": {
    "collapsed": false
   },
   "outputs": [
    {
     "data": {
      "text/html": [
       "<div>\n",
       "<style>\n",
       "    .dataframe thead tr:only-child th {\n",
       "        text-align: right;\n",
       "    }\n",
       "\n",
       "    .dataframe thead th {\n",
       "        text-align: left;\n",
       "    }\n",
       "\n",
       "    .dataframe tbody tr th {\n",
       "        vertical-align: top;\n",
       "    }\n",
       "</style>\n",
       "<table border=\"1\" class=\"dataframe\">\n",
       "  <thead>\n",
       "    <tr style=\"text-align: right;\">\n",
       "      <th></th>\n",
       "      <th>trip_duration</th>\n",
       "    </tr>\n",
       "    <tr>\n",
       "      <th>id</th>\n",
       "      <th></th>\n",
       "    </tr>\n",
       "  </thead>\n",
       "  <tbody>\n",
       "    <tr>\n",
       "      <th>id0000002</th>\n",
       "      <td>985.992432</td>\n",
       "    </tr>\n",
       "    <tr>\n",
       "      <th>id0000199</th>\n",
       "      <td>2252.507080</td>\n",
       "    </tr>\n",
       "    <tr>\n",
       "      <th>id0000446</th>\n",
       "      <td>680.643005</td>\n",
       "    </tr>\n",
       "    <tr>\n",
       "      <th>id0000587</th>\n",
       "      <td>1250.717896</td>\n",
       "    </tr>\n",
       "    <tr>\n",
       "      <th>id0000604</th>\n",
       "      <td>226.703491</td>\n",
       "    </tr>\n",
       "  </tbody>\n",
       "</table>\n",
       "</div>"
      ],
      "text/plain": [
       "           trip_duration\n",
       "id                      \n",
       "id0000002     985.992432\n",
       "id0000199    2252.507080\n",
       "id0000446     680.643005\n",
       "id0000587    1250.717896\n",
       "id0000604     226.703491"
      ]
     },
     "execution_count": 20,
     "metadata": {},
     "output_type": "execute_result"
    }
   ],
   "source": [
    "submission = utils.predict_xgb(model, X_test)\n",
    "submission.head(5)"
   ]
  },
  {
   "cell_type": "code",
   "execution_count": 21,
   "metadata": {
    "collapsed": true
   },
   "outputs": [],
   "source": [
    "submission.to_csv('trip_duration_ft_advanced.csv', index=True, index_label='id')"
   ]
  },
  {
   "cell_type": "markdown",
   "metadata": {},
   "source": [
    "<dl>\n",
    "<dt>This solution:</dt>\n",
    "<dd>&nbsp; &nbsp; Received a score of 0.38561 on the Kaggle competition.</dd>\n",
    "<dd>&nbsp; &nbsp; Placed 171 out of 1047.</dd>\n",
    "<dd>&nbsp; &nbsp; Beat 84% of competitors on the Kaggle competition.</dd>\n",
    "<dd>&nbsp; &nbsp; Scored 41% better than the baseline solution</dd>\n",
    "<dd>&nbsp; &nbsp; Had a modeling RMSLE of 0.32641</dd>\n",
    "</dl>\n",
    "\n",
    "September 7, 2017.\n",
    "\n",
    "<h2>Additional Analysis</h2>\n",
    "<p>Lets look at how important each feature was for the model.</p>"
   ]
  },
  {
   "cell_type": "code",
   "execution_count": 22,
   "metadata": {
    "collapsed": false
   },
   "outputs": [
    {
     "data": {
      "text/html": [
       "<div>\n",
       "<style>\n",
       "    .dataframe thead tr:only-child th {\n",
       "        text-align: right;\n",
       "    }\n",
       "\n",
       "    .dataframe thead th {\n",
       "        text-align: left;\n",
       "    }\n",
       "\n",
       "    .dataframe tbody tr th {\n",
       "        vertical-align: top;\n",
       "    }\n",
       "</style>\n",
       "<table border=\"1\" class=\"dataframe\">\n",
       "  <thead>\n",
       "    <tr style=\"text-align: right;\">\n",
       "      <th></th>\n",
       "      <th>feature_name</th>\n",
       "      <th>importance</th>\n",
       "    </tr>\n",
       "  </thead>\n",
       "  <tbody>\n",
       "    <tr>\n",
       "      <th>76</th>\n",
       "      <td>distance_euclidean</td>\n",
       "      <td>2264.0</td>\n",
       "    </tr>\n",
       "    <tr>\n",
       "      <th>70</th>\n",
       "      <td>distance_cityblock</td>\n",
       "      <td>2043.0</td>\n",
       "    </tr>\n",
       "    <tr>\n",
       "      <th>54</th>\n",
       "      <td>bearing_distance</td>\n",
       "      <td>1878.0</td>\n",
       "    </tr>\n",
       "    <tr>\n",
       "      <th>154</th>\n",
       "      <td>HOUR(pickup_datetime)</td>\n",
       "      <td>1876.0</td>\n",
       "    </tr>\n",
       "    <tr>\n",
       "      <th>158</th>\n",
       "      <td>dropoff_latitude</td>\n",
       "      <td>1672.0</td>\n",
       "    </tr>\n",
       "    <tr>\n",
       "      <th>68</th>\n",
       "      <td>pickup_latitude</td>\n",
       "      <td>1665.0</td>\n",
       "    </tr>\n",
       "    <tr>\n",
       "      <th>156</th>\n",
       "      <td>center_longtitude</td>\n",
       "      <td>1590.0</td>\n",
       "    </tr>\n",
       "    <tr>\n",
       "      <th>67</th>\n",
       "      <td>dropoff_longitude</td>\n",
       "      <td>1571.0</td>\n",
       "    </tr>\n",
       "    <tr>\n",
       "      <th>51</th>\n",
       "      <td>pickup_longitude</td>\n",
       "      <td>1384.0</td>\n",
       "    </tr>\n",
       "    <tr>\n",
       "      <th>56</th>\n",
       "      <td>center_latitude</td>\n",
       "      <td>1273.0</td>\n",
       "    </tr>\n",
       "    <tr>\n",
       "      <th>155</th>\n",
       "      <td>DAY(pickup_datetime)</td>\n",
       "      <td>1029.0</td>\n",
       "    </tr>\n",
       "    <tr>\n",
       "      <th>204</th>\n",
       "      <td>WEEKDAY(pickup_datetime)</td>\n",
       "      <td>722.0</td>\n",
       "    </tr>\n",
       "    <tr>\n",
       "      <th>161</th>\n",
       "      <td>MINUTE(pickup_datetime)</td>\n",
       "      <td>648.0</td>\n",
       "    </tr>\n",
       "    <tr>\n",
       "      <th>160</th>\n",
       "      <td>WEEK(pickup_datetime)</td>\n",
       "      <td>625.0</td>\n",
       "    </tr>\n",
       "    <tr>\n",
       "      <th>215</th>\n",
       "      <td>pickup_loc.STD(trips.bearing_distance)</td>\n",
       "      <td>472.0</td>\n",
       "    </tr>\n",
       "    <tr>\n",
       "      <th>180</th>\n",
       "      <td>dropoff_loc.STD(trips.bearing_distance)</td>\n",
       "      <td>405.0</td>\n",
       "    </tr>\n",
       "    <tr>\n",
       "      <th>269</th>\n",
       "      <td>pickup_loc.MEDIAN(trips.bearing_distance)</td>\n",
       "      <td>404.0</td>\n",
       "    </tr>\n",
       "    <tr>\n",
       "      <th>256</th>\n",
       "      <td>dropoff_loc.STD(trips.dropoff_latitude)</td>\n",
       "      <td>365.0</td>\n",
       "    </tr>\n",
       "    <tr>\n",
       "      <th>29</th>\n",
       "      <td>pickup_loc.MEAN(trips.bearing_distance)</td>\n",
       "      <td>337.0</td>\n",
       "    </tr>\n",
       "    <tr>\n",
       "      <th>106</th>\n",
       "      <td>pickup_loc.STD(trips.pickup_latitude)</td>\n",
       "      <td>335.0</td>\n",
       "    </tr>\n",
       "    <tr>\n",
       "      <th>71</th>\n",
       "      <td>pickup_cluster</td>\n",
       "      <td>317.0</td>\n",
       "    </tr>\n",
       "    <tr>\n",
       "      <th>291</th>\n",
       "      <td>dropoff_loc.STD(trips.dropoff_longitude)</td>\n",
       "      <td>316.0</td>\n",
       "    </tr>\n",
       "    <tr>\n",
       "      <th>44</th>\n",
       "      <td>pickup_loc.SKEW(trips.pickup_longitude)</td>\n",
       "      <td>303.0</td>\n",
       "    </tr>\n",
       "    <tr>\n",
       "      <th>97</th>\n",
       "      <td>dropoff_loc.MEDIAN(trips.bearing_distance)</td>\n",
       "      <td>297.0</td>\n",
       "    </tr>\n",
       "    <tr>\n",
       "      <th>213</th>\n",
       "      <td>pickup_loc.MEDIAN(trips.distance_euclidean)</td>\n",
       "      <td>296.0</td>\n",
       "    </tr>\n",
       "    <tr>\n",
       "      <th>162</th>\n",
       "      <td>dropoff_cluster</td>\n",
       "      <td>289.0</td>\n",
       "    </tr>\n",
       "    <tr>\n",
       "      <th>168</th>\n",
       "      <td>dropoff_loc.MEDIAN(trips.pickup_longitude)</td>\n",
       "      <td>285.0</td>\n",
       "    </tr>\n",
       "    <tr>\n",
       "      <th>186</th>\n",
       "      <td>dropoff_loc.MINUTE(first_trips_time)</td>\n",
       "      <td>273.0</td>\n",
       "    </tr>\n",
       "    <tr>\n",
       "      <th>323</th>\n",
       "      <td>dropoff_loc.SKEW(trips.dropoff_longitude)</td>\n",
       "      <td>272.0</td>\n",
       "    </tr>\n",
       "    <tr>\n",
       "      <th>349</th>\n",
       "      <td>dropoff_loc.SKEW(trips.dropoff_latitude)</td>\n",
       "      <td>271.0</td>\n",
       "    </tr>\n",
       "    <tr>\n",
       "      <th>125</th>\n",
       "      <td>dropoff_loc.MEDIAN(trips.distance_euclidean)</td>\n",
       "      <td>263.0</td>\n",
       "    </tr>\n",
       "    <tr>\n",
       "      <th>192</th>\n",
       "      <td>pickup_loc.MEDIAN(trips.dropoff_longitude)</td>\n",
       "      <td>262.0</td>\n",
       "    </tr>\n",
       "    <tr>\n",
       "      <th>340</th>\n",
       "      <td>dropoff_loc.STD(trips.trip_duration)</td>\n",
       "      <td>257.0</td>\n",
       "    </tr>\n",
       "    <tr>\n",
       "      <th>5</th>\n",
       "      <td>dropoff_loc.MEDIAN(trips.distance_cityblock)</td>\n",
       "      <td>250.0</td>\n",
       "    </tr>\n",
       "    <tr>\n",
       "      <th>55</th>\n",
       "      <td>number_of_steps</td>\n",
       "      <td>249.0</td>\n",
       "    </tr>\n",
       "    <tr>\n",
       "      <th>205</th>\n",
       "      <td>IS_WEEKEND(pickup_datetime)</td>\n",
       "      <td>248.0</td>\n",
       "    </tr>\n",
       "    <tr>\n",
       "      <th>276</th>\n",
       "      <td>dropoff_loc.MEAN(trips.bearing_distance)</td>\n",
       "      <td>248.0</td>\n",
       "    </tr>\n",
       "    <tr>\n",
       "      <th>140</th>\n",
       "      <td>pickup_loc.SKEW(trips.pickup_latitude)</td>\n",
       "      <td>245.0</td>\n",
       "    </tr>\n",
       "    <tr>\n",
       "      <th>337</th>\n",
       "      <td>dropoff_loc.SKEW(trips.pickup_latitude)</td>\n",
       "      <td>238.0</td>\n",
       "    </tr>\n",
       "    <tr>\n",
       "      <th>214</th>\n",
       "      <td>pickup_loc.STD(trips.pickup_longitude)</td>\n",
       "      <td>236.0</td>\n",
       "    </tr>\n",
       "    <tr>\n",
       "      <th>308</th>\n",
       "      <td>pickup_loc.SKEW(trips.dropoff_latitude)</td>\n",
       "      <td>236.0</td>\n",
       "    </tr>\n",
       "    <tr>\n",
       "      <th>199</th>\n",
       "      <td>pickup_loc.STD(trips.dropoff_longitude)</td>\n",
       "      <td>236.0</td>\n",
       "    </tr>\n",
       "    <tr>\n",
       "      <th>266</th>\n",
       "      <td>dropoff_loc.MEAN(trips.trip_duration)</td>\n",
       "      <td>233.0</td>\n",
       "    </tr>\n",
       "    <tr>\n",
       "      <th>104</th>\n",
       "      <td>pickup_loc.SKEW(trips.distance_cityblock)</td>\n",
       "      <td>231.0</td>\n",
       "    </tr>\n",
       "    <tr>\n",
       "      <th>99</th>\n",
       "      <td>dropoff_loc.MEDIAN(trips.pickup_latitude)</td>\n",
       "      <td>227.0</td>\n",
       "    </tr>\n",
       "    <tr>\n",
       "      <th>73</th>\n",
       "      <td>pickup_loc.SKEW(trips.bearing_distance)</td>\n",
       "      <td>227.0</td>\n",
       "    </tr>\n",
       "    <tr>\n",
       "      <th>1</th>\n",
       "      <td>dropoff_loc.MAX(trips.distance_euclidean)</td>\n",
       "      <td>225.0</td>\n",
       "    </tr>\n",
       "    <tr>\n",
       "      <th>171</th>\n",
       "      <td>pickup_loc.STD(trips.dropoff_latitude)</td>\n",
       "      <td>224.0</td>\n",
       "    </tr>\n",
       "    <tr>\n",
       "      <th>233</th>\n",
       "      <td>dropoff_loc.MAX(trips.dropoff_latitude)</td>\n",
       "      <td>224.0</td>\n",
       "    </tr>\n",
       "    <tr>\n",
       "      <th>247</th>\n",
       "      <td>dropoff_loc.MAX(trips.distance_cityblock)</td>\n",
       "      <td>221.0</td>\n",
       "    </tr>\n",
       "  </tbody>\n",
       "</table>\n",
       "</div>"
      ],
      "text/plain": [
       "                                     feature_name  importance\n",
       "76                             distance_euclidean      2264.0\n",
       "70                             distance_cityblock      2043.0\n",
       "54                               bearing_distance      1878.0\n",
       "154                         HOUR(pickup_datetime)      1876.0\n",
       "158                              dropoff_latitude      1672.0\n",
       "68                                pickup_latitude      1665.0\n",
       "156                             center_longtitude      1590.0\n",
       "67                              dropoff_longitude      1571.0\n",
       "51                               pickup_longitude      1384.0\n",
       "56                                center_latitude      1273.0\n",
       "155                          DAY(pickup_datetime)      1029.0\n",
       "204                      WEEKDAY(pickup_datetime)       722.0\n",
       "161                       MINUTE(pickup_datetime)       648.0\n",
       "160                         WEEK(pickup_datetime)       625.0\n",
       "215        pickup_loc.STD(trips.bearing_distance)       472.0\n",
       "180       dropoff_loc.STD(trips.bearing_distance)       405.0\n",
       "269     pickup_loc.MEDIAN(trips.bearing_distance)       404.0\n",
       "256       dropoff_loc.STD(trips.dropoff_latitude)       365.0\n",
       "29        pickup_loc.MEAN(trips.bearing_distance)       337.0\n",
       "106         pickup_loc.STD(trips.pickup_latitude)       335.0\n",
       "71                                 pickup_cluster       317.0\n",
       "291      dropoff_loc.STD(trips.dropoff_longitude)       316.0\n",
       "44        pickup_loc.SKEW(trips.pickup_longitude)       303.0\n",
       "97     dropoff_loc.MEDIAN(trips.bearing_distance)       297.0\n",
       "213   pickup_loc.MEDIAN(trips.distance_euclidean)       296.0\n",
       "162                               dropoff_cluster       289.0\n",
       "168    dropoff_loc.MEDIAN(trips.pickup_longitude)       285.0\n",
       "186          dropoff_loc.MINUTE(first_trips_time)       273.0\n",
       "323     dropoff_loc.SKEW(trips.dropoff_longitude)       272.0\n",
       "349      dropoff_loc.SKEW(trips.dropoff_latitude)       271.0\n",
       "125  dropoff_loc.MEDIAN(trips.distance_euclidean)       263.0\n",
       "192    pickup_loc.MEDIAN(trips.dropoff_longitude)       262.0\n",
       "340          dropoff_loc.STD(trips.trip_duration)       257.0\n",
       "5    dropoff_loc.MEDIAN(trips.distance_cityblock)       250.0\n",
       "55                                number_of_steps       249.0\n",
       "205                   IS_WEEKEND(pickup_datetime)       248.0\n",
       "276      dropoff_loc.MEAN(trips.bearing_distance)       248.0\n",
       "140        pickup_loc.SKEW(trips.pickup_latitude)       245.0\n",
       "337       dropoff_loc.SKEW(trips.pickup_latitude)       238.0\n",
       "214        pickup_loc.STD(trips.pickup_longitude)       236.0\n",
       "308       pickup_loc.SKEW(trips.dropoff_latitude)       236.0\n",
       "199       pickup_loc.STD(trips.dropoff_longitude)       236.0\n",
       "266         dropoff_loc.MEAN(trips.trip_duration)       233.0\n",
       "104     pickup_loc.SKEW(trips.distance_cityblock)       231.0\n",
       "99      dropoff_loc.MEDIAN(trips.pickup_latitude)       227.0\n",
       "73        pickup_loc.SKEW(trips.bearing_distance)       227.0\n",
       "1       dropoff_loc.MAX(trips.distance_euclidean)       225.0\n",
       "171        pickup_loc.STD(trips.dropoff_latitude)       224.0\n",
       "233       dropoff_loc.MAX(trips.dropoff_latitude)       224.0\n",
       "247     dropoff_loc.MAX(trips.distance_cityblock)       221.0"
      ]
     },
     "execution_count": 22,
     "metadata": {},
     "output_type": "execute_result"
    }
   ],
   "source": [
    "feature_names = X_train.columns.values\n",
    "ft_importances = utils.feature_importances(model, feature_names)\n",
    "ft_importances[:50]"
   ]
  }
 ],
 "metadata": {
  "kernelspec": {
   "display_name": "Python 2",
   "language": "python",
   "name": "python2"
  },
  "language_info": {
   "codemirror_mode": {
    "name": "ipython",
    "version": 2
   },
   "file_extension": ".py",
   "mimetype": "text/x-python",
   "name": "python",
   "nbconvert_exporter": "python",
   "pygments_lexer": "ipython2",
   "version": "2.7.13"
  }
 },
 "nbformat": 4,
 "nbformat_minor": 2
}
