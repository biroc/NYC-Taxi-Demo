{
 "cells": [
  {
   "cell_type": "markdown",
   "metadata": {},
   "source": [
    "<center><a href=\"https://www.featuretools.com/\"><img src=\"img/featuretools-logo.png\" width=\"400\" height=\"200\" /></a></center>"
   ]
  },
  {
   "cell_type": "markdown",
   "metadata": {},
   "source": [
    "<h2> A Featuretools Baseline </h2>\n",
    "<p>The following tutorial illustrates a featuretools baseline model for the NYC Taxi Trip Duration competition on Kaggle. This notebook follows the structure of the previous worksheet, but uses deep feature synthesis to create the model.</p>\n",
    "\n",
    "<h2>Step 1: Download raw data </h2>\n",
    "<p>As always, if you have not yet downloaded the data it can be found at the <a href=\"https://www.kaggle.com/c/nyc-taxi-trip-duration/data\">Kaggle website</a>. After installing featuretools following <a href = \"https://docs.featuretools.com/\">the instructions in the documentation</a> you can run the following.\n",
    "</p>\n"
   ]
  },
  {
   "cell_type": "code",
   "execution_count": 1,
   "metadata": {
    "collapsed": false
   },
   "outputs": [
    {
     "data": {
      "text/plain": [
       "'0.1.8'"
      ]
     },
     "execution_count": 1,
     "metadata": {},
     "output_type": "execute_result"
    }
   ],
   "source": [
    "import pandas as pd\n",
    "import numpy as np\n",
    "import featuretools as ft\n",
    "import utils\n",
    "ft.__version__"
   ]
  },
  {
   "cell_type": "code",
   "execution_count": 2,
   "metadata": {
    "collapsed": false
   },
   "outputs": [
    {
     "data": {
      "text/html": [
       "<div>\n",
       "<style>\n",
       "    .dataframe thead tr:only-child th {\n",
       "        text-align: right;\n",
       "    }\n",
       "\n",
       "    .dataframe thead th {\n",
       "        text-align: left;\n",
       "    }\n",
       "\n",
       "    .dataframe tbody tr th {\n",
       "        vertical-align: top;\n",
       "    }\n",
       "</style>\n",
       "<table border=\"1\" class=\"dataframe\">\n",
       "  <thead>\n",
       "    <tr style=\"text-align: right;\">\n",
       "      <th></th>\n",
       "      <th>id</th>\n",
       "      <th>vendor_id</th>\n",
       "      <th>pickup_datetime</th>\n",
       "      <th>passenger_count</th>\n",
       "      <th>pickup_longitude</th>\n",
       "      <th>pickup_latitude</th>\n",
       "      <th>dropoff_longitude</th>\n",
       "      <th>dropoff_latitude</th>\n",
       "      <th>store_and_fwd_flag</th>\n",
       "      <th>trip_duration</th>\n",
       "    </tr>\n",
       "  </thead>\n",
       "  <tbody>\n",
       "    <tr>\n",
       "      <th>0</th>\n",
       "      <td>id2875421</td>\n",
       "      <td>2</td>\n",
       "      <td>2016-03-14 17:24:55</td>\n",
       "      <td>1</td>\n",
       "      <td>-73.982155</td>\n",
       "      <td>40.767937</td>\n",
       "      <td>-73.964630</td>\n",
       "      <td>40.765602</td>\n",
       "      <td>False</td>\n",
       "      <td>455</td>\n",
       "    </tr>\n",
       "    <tr>\n",
       "      <th>1</th>\n",
       "      <td>id2377394</td>\n",
       "      <td>1</td>\n",
       "      <td>2016-06-12 00:43:35</td>\n",
       "      <td>1</td>\n",
       "      <td>-73.980415</td>\n",
       "      <td>40.738564</td>\n",
       "      <td>-73.999481</td>\n",
       "      <td>40.731152</td>\n",
       "      <td>False</td>\n",
       "      <td>663</td>\n",
       "    </tr>\n",
       "    <tr>\n",
       "      <th>2</th>\n",
       "      <td>id3858529</td>\n",
       "      <td>2</td>\n",
       "      <td>2016-01-19 11:35:24</td>\n",
       "      <td>1</td>\n",
       "      <td>-73.979027</td>\n",
       "      <td>40.763939</td>\n",
       "      <td>-74.005333</td>\n",
       "      <td>40.710087</td>\n",
       "      <td>False</td>\n",
       "      <td>2124</td>\n",
       "    </tr>\n",
       "    <tr>\n",
       "      <th>3</th>\n",
       "      <td>id3504673</td>\n",
       "      <td>2</td>\n",
       "      <td>2016-04-06 19:32:31</td>\n",
       "      <td>1</td>\n",
       "      <td>-74.010040</td>\n",
       "      <td>40.719971</td>\n",
       "      <td>-74.012268</td>\n",
       "      <td>40.706718</td>\n",
       "      <td>False</td>\n",
       "      <td>429</td>\n",
       "    </tr>\n",
       "    <tr>\n",
       "      <th>4</th>\n",
       "      <td>id2181028</td>\n",
       "      <td>2</td>\n",
       "      <td>2016-03-26 13:30:55</td>\n",
       "      <td>1</td>\n",
       "      <td>-73.973053</td>\n",
       "      <td>40.793209</td>\n",
       "      <td>-73.972923</td>\n",
       "      <td>40.782520</td>\n",
       "      <td>False</td>\n",
       "      <td>435</td>\n",
       "    </tr>\n",
       "  </tbody>\n",
       "</table>\n",
       "</div>"
      ],
      "text/plain": [
       "          id  vendor_id     pickup_datetime  passenger_count  \\\n",
       "0  id2875421          2 2016-03-14 17:24:55                1   \n",
       "1  id2377394          1 2016-06-12 00:43:35                1   \n",
       "2  id3858529          2 2016-01-19 11:35:24                1   \n",
       "3  id3504673          2 2016-04-06 19:32:31                1   \n",
       "4  id2181028          2 2016-03-26 13:30:55                1   \n",
       "\n",
       "   pickup_longitude  pickup_latitude  dropoff_longitude  dropoff_latitude  \\\n",
       "0        -73.982155        40.767937         -73.964630         40.765602   \n",
       "1        -73.980415        40.738564         -73.999481         40.731152   \n",
       "2        -73.979027        40.763939         -74.005333         40.710087   \n",
       "3        -74.010040        40.719971         -74.012268         40.706718   \n",
       "4        -73.973053        40.793209         -73.972923         40.782520   \n",
       "\n",
       "   store_and_fwd_flag  trip_duration  \n",
       "0               False            455  \n",
       "1               False            663  \n",
       "2               False           2124  \n",
       "3               False            429  \n",
       "4               False            435  "
      ]
     },
     "execution_count": 2,
     "metadata": {},
     "output_type": "execute_result"
    }
   ],
   "source": [
    "TRAIN_DIR = \"data/train.csv\"\n",
    "TEST_DIR = \"data/test.csv\"\n",
    "\n",
    "data_train, data_test = utils.read_data(TRAIN_DIR, TEST_DIR)\n",
    "\n",
    "data_train.head(5)"
   ]
  },
  {
   "cell_type": "markdown",
   "metadata": {},
   "source": [
    "<h2>Step 2: Prepare the Data </h2>\n",
    "<p>Let's create another column to define test and train datasets.</p>"
   ]
  },
  {
   "cell_type": "code",
   "execution_count": 3,
   "metadata": {
    "collapsed": true
   },
   "outputs": [],
   "source": [
    "data_train['test_data'] = False\n",
    "data_test['test_data'] = True"
   ]
  },
  {
   "cell_type": "markdown",
   "metadata": {},
   "source": [
    "<p>We can now combine the data. </p>"
   ]
  },
  {
   "cell_type": "code",
   "execution_count": 4,
   "metadata": {
    "collapsed": true
   },
   "outputs": [],
   "source": [
    "data = pd.concat([data_train, data_test])"
   ]
  },
  {
   "cell_type": "markdown",
   "metadata": {},
   "source": [
    "<h2>Step 3: Create baseline features using DFS </h2>\n",
    "<p>Instead of manually creating features, such as month of <b>pickup_datetime</b>, we can let featuretools come up with them. </p>\n",
    "\n",
    "<p>Within featuretools there is a standard format for representing data that is used to set up predictions and build features. A <b>EntitySet</b> stores information about entities (database table), variables (columns in database tables), relationships, and the data itself. </p>\n",
    "\n",
    "<p> First, we create the EntitySet.</p>"
   ]
  },
  {
   "cell_type": "code",
   "execution_count": 5,
   "metadata": {
    "collapsed": true
   },
   "outputs": [],
   "source": [
    "es = ft.EntitySet(\"taxi\")"
   ]
  },
  {
   "cell_type": "markdown",
   "metadata": {},
   "source": [
    "<p>We can then use the `entity_from_dataframe` method to add an Entity called <i>trips</i>. We want to track the `id`, the `time_index` and specify other types of variables we care about in this entity. </p>\n",
    "\n",
    "<p>As a note: Featuretools will try to interpret the types of variables. We can override this interpretation by specifying the types. In this case, I wanted <b>passenger_count</b> to be a type of Ordinal, and <b>vendor_id</b> to be of type Categorical.</p>"
   ]
  },
  {
   "cell_type": "code",
   "execution_count": 6,
   "metadata": {
    "collapsed": false
   },
   "outputs": [
    {
     "data": {
      "text/plain": [
       "Entityset: taxi\n",
       "  Entities:\n",
       "    trips (shape = [2050266, 11])\n",
       "  Relationships:\n",
       "    No relationships"
      ]
     },
     "execution_count": 6,
     "metadata": {},
     "output_type": "execute_result"
    }
   ],
   "source": [
    "from featuretools import variable_types as vtypes\n",
    "\n",
    "trip_variable_types = {\n",
    "    'passenger_count': vtypes.Ordinal, \n",
    "    'vendor_id': vtypes.Categorical,\n",
    "}\n",
    "\n",
    "es.entity_from_dataframe(entity_id=\"trips\",\n",
    "                         dataframe=data,\n",
    "                         index=\"id\",\n",
    "                         time_index='pickup_datetime',\n",
    "                         variable_types=trip_variable_types)"
   ]
  },
  {
   "cell_type": "markdown",
   "metadata": {},
   "source": [
    "<p>We can also normalize some of the columns to create new entities. So a <i>vendors</i> entity is created based on the unique values in the <i>vendor_id</i> column in <i>trips</i>.</p>"
   ]
  },
  {
   "cell_type": "code",
   "execution_count": 7,
   "metadata": {
    "collapsed": false
   },
   "outputs": [
    {
     "data": {
      "text/plain": [
       "Entityset: taxi\n",
       "  Entities:\n",
       "    vendors (shape = [2, 2])\n",
       "    trips (shape = [2050266, 11])\n",
       "    passenger_cnt (shape = [8, 2])\n",
       "  Relationships:\n",
       "    trips.vendor_id -> vendors.vendor_id\n",
       "    trips.passenger_count -> passenger_cnt.passenger_count"
      ]
     },
     "execution_count": 7,
     "metadata": {},
     "output_type": "execute_result"
    }
   ],
   "source": [
    "es.normalize_entity(base_entity_id=\"trips\",\n",
    "                    new_entity_id=\"vendors\",\n",
    "                    index=\"vendor_id\")\n",
    "\n",
    "es.normalize_entity(base_entity_id=\"trips\",\n",
    "                    new_entity_id=\"passenger_cnt\",\n",
    "                    index=\"passenger_count\")"
   ]
  },
  {
   "cell_type": "markdown",
   "metadata": {},
   "source": [
    "<p>We can specify the time for each instance of the target_entity to calculate features. The timestamp represents the last time data can be used for calculating features by DFS. This is specified using a dataframe of cutoff times. Below we can see that the cutoff time for each trip is the pickup time.</p>"
   ]
  },
  {
   "cell_type": "code",
   "execution_count": 8,
   "metadata": {
    "collapsed": true
   },
   "outputs": [],
   "source": [
    "cutoff_time = (es['trips'].df[['id', 'pickup_datetime']])"
   ]
  },
  {
   "cell_type": "markdown",
   "metadata": {},
   "source": [
    "<p>Given this dataset, we would have about 2 million unique cutoff times. This is a good use case to use the approximate features parameter of DFS. In a large dataset, direct features that are aggregations on the prediction entity may not change much from cutoff time to cutoff time. Calculating the aggregation features at specific times every hour and using it for all cutoff times within the hour would save time and perhaps not lose much information. The approximate parameter in DFS lets you specify a window size to use when approximating these direct aggregation features.</p>\n",
    "\n",
    "<p>We now create features using DFS.</p>\n",
    "\n",
    "<b>Note, we can use an already calculated feature_matrix by doing the following:</b>\n",
    "<p>You must copy and run the code.</p>\n",
    "```python\n",
    "feature_matrix = pd.read_csv('https://s3.amazonaws.com/featuretools-static/nyc_taxi/fm_simple.csv', \n",
    "                             index_col='id')\n",
    "features = feature_matrix.columns.values\n",
    "```"
   ]
  },
  {
   "cell_type": "code",
   "execution_count": 9,
   "metadata": {
    "collapsed": false
   },
   "outputs": [
    {
     "name": "stdout",
     "output_type": "stream",
     "text": [
      "Building features: 72it [00:00, 322.72it/s]\n",
      "Progress: 100%|██████████| 6/6 [05:20<00:00, 53.32s/cutoff time]\n"
     ]
    }
   ],
   "source": [
    "from featuretools.primitives import (Day, Hour, Minute, Month, Weekday, Week, Weekend)\n",
    "\n",
    "es.add_interesting_values()\n",
    "\n",
    "trans_primitives = [Minute, Hour, Day, Week, Month, Weekday, Weekend]\n",
    "\n",
    "feature_matrix, features = ft.dfs(entityset=es,\n",
    "                                  target_entity=\"trips\",\n",
    "                                  trans_primitives=trans_primitives,\n",
    "                                  drop_contains=['trips.test_data'],\n",
    "                                  verbose=True,\n",
    "                                  cutoff_time=cutoff_time,\n",
    "                                  approximate='36d')"
   ]
  },
  {
   "cell_type": "markdown",
   "metadata": {},
   "source": [
    "<p>Here are the features created. Notice how some of the features match the manually created features in the previous notebook.</p>"
   ]
  },
  {
   "cell_type": "code",
   "execution_count": 10,
   "metadata": {
    "collapsed": false
   },
   "outputs": [
    {
     "name": "stdout",
     "output_type": "stream",
     "text": [
      "40\n"
     ]
    }
   ],
   "source": [
    "print len(features)"
   ]
  },
  {
   "cell_type": "code",
   "execution_count": 11,
   "metadata": {
    "collapsed": false
   },
   "outputs": [
    {
     "data": {
      "text/plain": [
       "[<Feature: passenger_count>,\n",
       " <Feature: dropoff_longitude>,\n",
       " <Feature: store_and_fwd_flag>,\n",
       " <Feature: vendor_id>,\n",
       " <Feature: test_data>,\n",
       " <Feature: pickup_latitude>,\n",
       " <Feature: pickup_longitude>,\n",
       " <Feature: trip_duration>,\n",
       " <Feature: dropoff_latitude>,\n",
       " <Feature: DAY(pickup_datetime)>,\n",
       " <Feature: HOUR(pickup_datetime)>,\n",
       " <Feature: WEEKDAY(pickup_datetime)>,\n",
       " <Feature: MONTH(pickup_datetime)>,\n",
       " <Feature: WEEK(pickup_datetime)>,\n",
       " <Feature: IS_WEEKEND(pickup_datetime)>,\n",
       " <Feature: MINUTE(pickup_datetime)>,\n",
       " <Feature: passenger_cnt.SUM(trips.pickup_longitude)>,\n",
       " <Feature: passenger_cnt.WEEK(first_trips_time)>,\n",
       " <Feature: vendors.SUM(trips.dropoff_longitude)>,\n",
       " <Feature: vendors.DAY(first_trips_time)>,\n",
       " <Feature: passenger_cnt.WEEKDAY(first_trips_time)>,\n",
       " <Feature: vendors.SUM(trips.pickup_latitude)>,\n",
       " <Feature: passenger_cnt.SUM(trips.dropoff_latitude)>,\n",
       " <Feature: vendors.WEEKDAY(first_trips_time)>,\n",
       " <Feature: vendors.MONTH(first_trips_time)>]"
      ]
     },
     "execution_count": 11,
     "metadata": {},
     "output_type": "execute_result"
    }
   ],
   "source": [
    "features[:25]"
   ]
  },
  {
   "cell_type": "markdown",
   "metadata": {},
   "source": [
    "<h2>Step 3: Build the Model </h2>"
   ]
  },
  {
   "cell_type": "markdown",
   "metadata": {},
   "source": [
    "<p>We need to retrieve our labels for the train dataset, so we should merge our current feature matrix with the original dataset. </p>\n",
    "<p>We also get the log of the trip duration so that a more linear relationship can be found.</p>"
   ]
  },
  {
   "cell_type": "code",
   "execution_count": 12,
   "metadata": {
    "collapsed": false
   },
   "outputs": [],
   "source": [
    "# separates the whole feature matrix into train data feature matrix, train data labels, and test data feature matrix \n",
    "X_train, labels, X_test = utils.get_train_test_fm(feature_matrix)\n",
    "labels = np.log(labels.values + 1)"
   ]
  },
  {
   "cell_type": "code",
   "execution_count": 13,
   "metadata": {
    "collapsed": false
   },
   "outputs": [
    {
     "name": "stdout",
     "output_type": "stream",
     "text": [
      "[0]\ttrain-rmse:5.00303\tvalid-rmse:5.00293\n",
      "Multiple eval metrics have been passed: 'valid-rmse' will be used for early stopping.\n",
      "\n",
      "Will train until valid-rmse hasn't improved in 60 rounds.\n",
      "[10]\ttrain-rmse:0.996953\tvalid-rmse:0.99796\n",
      "[20]\ttrain-rmse:0.559007\tvalid-rmse:0.562018\n",
      "[30]\ttrain-rmse:0.500829\tvalid-rmse:0.504979\n",
      "[40]\ttrain-rmse:0.480289\tvalid-rmse:0.485395\n",
      "[50]\ttrain-rmse:0.462385\tvalid-rmse:0.468386\n",
      "[60]\ttrain-rmse:0.437639\tvalid-rmse:0.444571\n",
      "[70]\ttrain-rmse:0.431325\tvalid-rmse:0.439002\n",
      "[80]\ttrain-rmse:0.424981\tvalid-rmse:0.433295\n",
      "[90]\ttrain-rmse:0.420665\tvalid-rmse:0.429507\n",
      "[100]\ttrain-rmse:0.417436\tvalid-rmse:0.426779\n",
      "[110]\ttrain-rmse:0.415885\tvalid-rmse:0.425593\n",
      "[120]\ttrain-rmse:0.413628\tvalid-rmse:0.423836\n",
      "[130]\ttrain-rmse:0.412455\tvalid-rmse:0.423168\n",
      "[140]\ttrain-rmse:0.411819\tvalid-rmse:0.422747\n",
      "[150]\ttrain-rmse:0.407039\tvalid-rmse:0.418423\n",
      "[160]\ttrain-rmse:0.404392\tvalid-rmse:0.416234\n",
      "[170]\ttrain-rmse:0.402947\tvalid-rmse:0.415275\n",
      "[180]\ttrain-rmse:0.39991\tvalid-rmse:0.412631\n",
      "[190]\ttrain-rmse:0.394904\tvalid-rmse:0.408185\n",
      "[200]\ttrain-rmse:0.393814\tvalid-rmse:0.407388\n",
      "[210]\ttrain-rmse:0.392031\tvalid-rmse:0.406016\n",
      "[220]\ttrain-rmse:0.390789\tvalid-rmse:0.405157\n",
      "[226]\ttrain-rmse:0.390331\tvalid-rmse:0.404889\n",
      "Modeling RMSLE 0.40489\n"
     ]
    }
   ],
   "source": [
    "model = utils.train_xgb(X_train, labels)"
   ]
  },
  {
   "cell_type": "markdown",
   "metadata": {},
   "source": [
    "<h2>Step 4: Make a Submission </h2>"
   ]
  },
  {
   "cell_type": "code",
   "execution_count": 14,
   "metadata": {
    "collapsed": false
   },
   "outputs": [
    {
     "data": {
      "text/html": [
       "<div>\n",
       "<style>\n",
       "    .dataframe thead tr:only-child th {\n",
       "        text-align: right;\n",
       "    }\n",
       "\n",
       "    .dataframe thead th {\n",
       "        text-align: left;\n",
       "    }\n",
       "\n",
       "    .dataframe tbody tr th {\n",
       "        vertical-align: top;\n",
       "    }\n",
       "</style>\n",
       "<table border=\"1\" class=\"dataframe\">\n",
       "  <thead>\n",
       "    <tr style=\"text-align: right;\">\n",
       "      <th></th>\n",
       "      <th>trip_duration</th>\n",
       "    </tr>\n",
       "    <tr>\n",
       "      <th>id</th>\n",
       "      <th></th>\n",
       "    </tr>\n",
       "  </thead>\n",
       "  <tbody>\n",
       "    <tr>\n",
       "      <th>id0000002</th>\n",
       "      <td>1103.446045</td>\n",
       "    </tr>\n",
       "    <tr>\n",
       "      <th>id0000199</th>\n",
       "      <td>1986.509033</td>\n",
       "    </tr>\n",
       "    <tr>\n",
       "      <th>id0000446</th>\n",
       "      <td>1023.389771</td>\n",
       "    </tr>\n",
       "    <tr>\n",
       "      <th>id0000587</th>\n",
       "      <td>1326.767944</td>\n",
       "    </tr>\n",
       "    <tr>\n",
       "      <th>id0000604</th>\n",
       "      <td>193.377487</td>\n",
       "    </tr>\n",
       "  </tbody>\n",
       "</table>\n",
       "</div>"
      ],
      "text/plain": [
       "           trip_duration\n",
       "id                      \n",
       "id0000002    1103.446045\n",
       "id0000199    1986.509033\n",
       "id0000446    1023.389771\n",
       "id0000587    1326.767944\n",
       "id0000604     193.377487"
      ]
     },
     "execution_count": 14,
     "metadata": {},
     "output_type": "execute_result"
    }
   ],
   "source": [
    "submission = utils.predict_xgb(model, X_test)\n",
    "submission.head(5)"
   ]
  },
  {
   "cell_type": "code",
   "execution_count": 15,
   "metadata": {
    "collapsed": true
   },
   "outputs": [],
   "source": [
    "submission.to_csv('trip_duration_ft_simple.csv', index=True, index_label='id')"
   ]
  },
  {
   "cell_type": "markdown",
   "metadata": {},
   "source": [
    "<dt>This solution:</dt>\n",
    "<dd>&nbsp; &nbsp; Received a score of 0.45616 on the Kaggle competition.</dd>\n",
    "<dd>&nbsp; &nbsp; Placed 565 out of 1082.</dd>\n",
    "<dd>&nbsp; &nbsp; Beat 48% of competitors on the Kaggle competition.</dd>\n",
    "<dd>&nbsp; &nbsp; Scored 2% better than the baseline solution</dd>\n",
    "<dd>&nbsp; &nbsp; Had a modeling RMSLE of 0.40489</dd>\n",
    "\n",
    "September 7, 2017.\n",
    "\n",
    "<h2>Additional Analysis</h2>\n",
    "<p>Let's look at how important each feature was for the model.</p>"
   ]
  },
  {
   "cell_type": "code",
   "execution_count": 16,
   "metadata": {
    "collapsed": false,
    "scrolled": false
   },
   "outputs": [
    {
     "data": {
      "text/html": [
       "<div>\n",
       "<style>\n",
       "    .dataframe thead tr:only-child th {\n",
       "        text-align: right;\n",
       "    }\n",
       "\n",
       "    .dataframe thead th {\n",
       "        text-align: left;\n",
       "    }\n",
       "\n",
       "    .dataframe tbody tr th {\n",
       "        vertical-align: top;\n",
       "    }\n",
       "</style>\n",
       "<table border=\"1\" class=\"dataframe\">\n",
       "  <thead>\n",
       "    <tr style=\"text-align: right;\">\n",
       "      <th></th>\n",
       "      <th>feature_name</th>\n",
       "      <th>importance</th>\n",
       "    </tr>\n",
       "  </thead>\n",
       "  <tbody>\n",
       "    <tr>\n",
       "      <th>6</th>\n",
       "      <td>dropoff_latitude</td>\n",
       "      <td>8141.0</td>\n",
       "    </tr>\n",
       "    <tr>\n",
       "      <th>1</th>\n",
       "      <td>dropoff_longitude</td>\n",
       "      <td>7465.0</td>\n",
       "    </tr>\n",
       "    <tr>\n",
       "      <th>4</th>\n",
       "      <td>pickup_latitude</td>\n",
       "      <td>6970.0</td>\n",
       "    </tr>\n",
       "    <tr>\n",
       "      <th>5</th>\n",
       "      <td>pickup_longitude</td>\n",
       "      <td>6001.0</td>\n",
       "    </tr>\n",
       "    <tr>\n",
       "      <th>8</th>\n",
       "      <td>HOUR(pickup_datetime)</td>\n",
       "      <td>2976.0</td>\n",
       "    </tr>\n",
       "    <tr>\n",
       "      <th>7</th>\n",
       "      <td>DAY(pickup_datetime)</td>\n",
       "      <td>2394.0</td>\n",
       "    </tr>\n",
       "    <tr>\n",
       "      <th>23</th>\n",
       "      <td>MINUTE(pickup_datetime)</td>\n",
       "      <td>2251.0</td>\n",
       "    </tr>\n",
       "    <tr>\n",
       "      <th>25</th>\n",
       "      <td>WEEK(pickup_datetime)</td>\n",
       "      <td>1665.0</td>\n",
       "    </tr>\n",
       "    <tr>\n",
       "      <th>9</th>\n",
       "      <td>WEEKDAY(pickup_datetime)</td>\n",
       "      <td>1472.0</td>\n",
       "    </tr>\n",
       "    <tr>\n",
       "      <th>27</th>\n",
       "      <td>passenger_cnt.SUM(trips.pickup_longitude)</td>\n",
       "      <td>1199.0</td>\n",
       "    </tr>\n",
       "    <tr>\n",
       "      <th>26</th>\n",
       "      <td>vendors.SUM(trips.dropoff_longitude)</td>\n",
       "      <td>956.0</td>\n",
       "    </tr>\n",
       "    <tr>\n",
       "      <th>10</th>\n",
       "      <td>passenger_cnt.SUM(trips.dropoff_latitude)</td>\n",
       "      <td>738.0</td>\n",
       "    </tr>\n",
       "    <tr>\n",
       "      <th>19</th>\n",
       "      <td>vendors.SUM(trips.pickup_latitude)</td>\n",
       "      <td>543.0</td>\n",
       "    </tr>\n",
       "    <tr>\n",
       "      <th>24</th>\n",
       "      <td>MONTH(pickup_datetime)</td>\n",
       "      <td>451.0</td>\n",
       "    </tr>\n",
       "    <tr>\n",
       "      <th>14</th>\n",
       "      <td>vendors.SUM(trips.pickup_longitude)</td>\n",
       "      <td>387.0</td>\n",
       "    </tr>\n",
       "    <tr>\n",
       "      <th>0</th>\n",
       "      <td>passenger_count</td>\n",
       "      <td>380.0</td>\n",
       "    </tr>\n",
       "    <tr>\n",
       "      <th>12</th>\n",
       "      <td>passenger_cnt.SUM(trips.dropoff_longitude)</td>\n",
       "      <td>361.0</td>\n",
       "    </tr>\n",
       "    <tr>\n",
       "      <th>22</th>\n",
       "      <td>IS_WEEKEND(pickup_datetime)</td>\n",
       "      <td>359.0</td>\n",
       "    </tr>\n",
       "    <tr>\n",
       "      <th>3</th>\n",
       "      <td>vendor_id</td>\n",
       "      <td>328.0</td>\n",
       "    </tr>\n",
       "    <tr>\n",
       "      <th>18</th>\n",
       "      <td>passenger_cnt.SUM(trips.trip_duration)</td>\n",
       "      <td>256.0</td>\n",
       "    </tr>\n",
       "  </tbody>\n",
       "</table>\n",
       "</div>"
      ],
      "text/plain": [
       "                                  feature_name  importance\n",
       "6                             dropoff_latitude      8141.0\n",
       "1                            dropoff_longitude      7465.0\n",
       "4                              pickup_latitude      6970.0\n",
       "5                             pickup_longitude      6001.0\n",
       "8                        HOUR(pickup_datetime)      2976.0\n",
       "7                         DAY(pickup_datetime)      2394.0\n",
       "23                     MINUTE(pickup_datetime)      2251.0\n",
       "25                       WEEK(pickup_datetime)      1665.0\n",
       "9                     WEEKDAY(pickup_datetime)      1472.0\n",
       "27   passenger_cnt.SUM(trips.pickup_longitude)      1199.0\n",
       "26        vendors.SUM(trips.dropoff_longitude)       956.0\n",
       "10   passenger_cnt.SUM(trips.dropoff_latitude)       738.0\n",
       "19          vendors.SUM(trips.pickup_latitude)       543.0\n",
       "24                      MONTH(pickup_datetime)       451.0\n",
       "14         vendors.SUM(trips.pickup_longitude)       387.0\n",
       "0                              passenger_count       380.0\n",
       "12  passenger_cnt.SUM(trips.dropoff_longitude)       361.0\n",
       "22                 IS_WEEKEND(pickup_datetime)       359.0\n",
       "3                                    vendor_id       328.0\n",
       "18      passenger_cnt.SUM(trips.trip_duration)       256.0"
      ]
     },
     "execution_count": 16,
     "metadata": {},
     "output_type": "execute_result"
    }
   ],
   "source": [
    "feature_names = X_train.columns.values\n",
    "ft_importances = utils.feature_importances(model, feature_names)\n",
    "ft_importances[:20]"
   ]
  }
 ],
 "metadata": {
  "kernelspec": {
   "display_name": "Python 2",
   "language": "python",
   "name": "python2"
  },
  "language_info": {
   "codemirror_mode": {
    "name": "ipython",
    "version": 2
   },
   "file_extension": ".py",
   "mimetype": "text/x-python",
   "name": "python",
   "nbconvert_exporter": "python",
   "pygments_lexer": "ipython2",
   "version": "2.7.13"
  }
 },
 "nbformat": 4,
 "nbformat_minor": 2
}
